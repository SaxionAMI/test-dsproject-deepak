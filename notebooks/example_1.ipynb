{
 "cells": [
  {
   "cell_type": "code",
   "execution_count": null,
   "id": "0",
   "metadata": {},
   "outputs": [],
   "source": [
    "import pandas as pd\n",
    "import matplotlib.pyplot as plt\n",
    "\n",
    "from matplotlib.dates import MonthLocator, DateFormatter\n",
    "\n",
    "from pathlib import Path\n",
    "\n",
    "# set options\n",
    "pd.set_option(\"display.max.columns\", None)\n",
    "pd.set_option(\"display.precision\", 2)"
   ]
  },
  {
   "attachments": {},
   "cell_type": "markdown",
   "id": "1",
   "metadata": {},
   "source": [
    "## Import specific meter data\n",
    "\n",
    "- Set the directory names\n",
    "- Loop through the dates to get all the CSV files for 2023 and 2024\n",
    "- Then concatenate them into a single DataFrame"
   ]
  },
  {
   "cell_type": "code",
   "execution_count": null,
   "id": "2",
   "metadata": {},
   "outputs": [],
   "source": [
    "ROOT_DIR_PATH = Path.cwd().parents[0]\n",
    "\n",
    "DATA_DIRNAME = 'data'\n",
    "RAW_DATA_DIRNAME = 'raw'\n",
    "SPARKLING_DIRNAME_2023 = 'shine_2023'\n",
    "SPARKLING_DIRNAME_2024 = 'shine_2024'\n",
    "\n",
    "SPARKLING_DIRPATH_2023 = ROOT_DIR_PATH / DATA_DIRNAME / RAW_DATA_DIRNAME / SPARKLING_DIRNAME_2023\n",
    "SPARKLING_DIRPATH_2024 = ROOT_DIR_PATH / DATA_DIRNAME / RAW_DATA_DIRNAME / SPARKLING_DIRNAME_2024\n",
    "\n",
    "shine_2023_df = pd.DataFrame()\n",
    "shine_2024_df = pd.DataFrame()\n",
    "\n",
    "# add all values from 2023\n",
    "for file in SPARKLING_DIRPATH_2023.glob(\"**/M13_*_1h.csv\"):\n",
    "    df = pd.read_csv(file).iloc[::-1] # reverse because of the way our data is stored, we have to first reverse the data so the day starts at 00:00 and ends at 23:00 instead of the other way around.\n",
    "    shine_2023_df = pd.concat([shine_2023_df, df if not df.empty else None])\n",
    "\n",
    "# add all values from 2024 until 18th Sep\n",
    "for file in SPARKLING_DIRPATH_2024.glob(\"**/M13_*_1h.csv\"):\n",
    "    df = pd.read_csv(file).iloc[::-1].reset_index() # idem dito\n",
    "    shine_2024_df = pd.concat([shine_2024_df, df if not df.empty else None])\n",
    "\n",
    "shine_2023_df = shine_2023_df.sort_values(by=['time']).reset_index()\n",
    "shine_2024_df = shine_2024_df.sort_values(by=['time']).reset_index()"
   ]
  },
  {
   "cell_type": "markdown",
   "id": "3",
   "metadata": {},
   "source": [
    "### Check imported data"
   ]
  },
  {
   "cell_type": "code",
   "execution_count": null,
   "id": "4",
   "metadata": {},
   "outputs": [],
   "source": [
    "shine_2023_df.columns"
   ]
  },
  {
   "cell_type": "code",
   "execution_count": null,
   "id": "5",
   "metadata": {},
   "outputs": [],
   "source": [
    "shine_2024_df.columns"
   ]
  },
  {
   "cell_type": "code",
   "execution_count": null,
   "id": "6",
   "metadata": {},
   "outputs": [],
   "source": [
    "shine_2023_df[['time','obis_9_7_0_mean','obis_16_7_0_mean']].loc[shine_2023_df['time'] < '2023-09-15T00:00:00+02:00']"
   ]
  },
  {
   "cell_type": "markdown",
   "id": "7",
   "metadata": {},
   "source": [
    "### Combine 2023 and 2024"
   ]
  },
  {
   "cell_type": "code",
   "execution_count": null,
   "id": "8",
   "metadata": {},
   "outputs": [],
   "source": [
    "shine_combined_df = pd.concat([shine_2023_df, shine_2024_df]).drop(columns='index')"
   ]
  },
  {
   "cell_type": "code",
   "execution_count": null,
   "id": "9",
   "metadata": {},
   "outputs": [],
   "source": [
    "shine_combined_df[['time','obis_9_7_0_mean','obis_16_7_0_mean']].loc[shine_combined_df['time'] < '2023-09-15T00:00:00+02:00']"
   ]
  },
  {
   "cell_type": "code",
   "execution_count": null,
   "id": "10",
   "metadata": {},
   "outputs": [],
   "source": [
    "shine_combined_df[['time','obis_9_7_0_mean','obis_16_7_0_mean']].tail()"
   ]
  },
  {
   "cell_type": "markdown",
   "id": "11",
   "metadata": {},
   "source": [
    "## Visualise and save"
   ]
  },
  {
   "cell_type": "code",
   "execution_count": null,
   "id": "12",
   "metadata": {},
   "outputs": [],
   "source": [
    "# using basic built-in matplotlib plot\n",
    "shine_combined_df['time'] = pd.to_datetime(shine_combined_df['time'],utc=True)"
   ]
  },
  {
   "cell_type": "code",
   "execution_count": null,
   "id": "13",
   "metadata": {},
   "outputs": [],
   "source": [
    "plt.figure()\n",
    "plt.rcParams.update({'font.size': 22}) # must set in top\n",
    "\n",
    "ax = (shine_combined_df[['time','obis_9_7_0_mean','obis_16_7_0_mean']]\n",
    "       .loc[(shine_combined_df['time'] >= '2023-06-01T00:00:00+01:00') & (shine_combined_df['time'] <= '2024-02-01T00:00:00+01:00')]\n",
    "       .plot(kind='line',x='time',y=['obis_9_7_0_mean','obis_16_7_0_mean'],figsize=(20,4),fontsize=20)\n",
    "      )\n",
    "\n",
    "ax.legend(loc=3,fontsize=18)\n",
    "ax.set_xlabel('Time',fontdict={'fontsize':24})\n",
    "ax.set_ylabel('kVA / kW',fontdict={'fontsize':24})\n",
    "\n",
    "fig = plt.gcf()\n",
    "fig.savefig(fname='before_after_battery.png',dpi=600,format='png',bbox_inches='tight')"
   ]
  },
  {
   "cell_type": "code",
   "execution_count": null,
   "id": "14",
   "metadata": {},
   "outputs": [],
   "source": [
    "plt.figure()\n",
    "plt.rcParams.update({'font.size': 22}) # must set in top\n",
    "\n",
    "ax = (shine_combined_df[['time','obis_9_7_0_mean','obis_16_7_0_mean']]\n",
    "       .loc[(shine_combined_df['time'] >= '2023-06-01T00:00:00+01:00') & (shine_combined_df['time'] <= '2024-02-01T00:00:00+01:00')]\n",
    "       .plot(kind='line',x='time',y=['obis_9_7_0_mean','obis_16_7_0_mean'],figsize=(20,4),fontsize=20)\n",
    "      )\n",
    "\n",
    "ax.legend(loc=3,fontsize=18)\n",
    "ax.set_xlabel('Time',fontdict={'fontsize':24})\n",
    "ax.set_ylabel('kVA / kW',fontdict={'fontsize':24})"
   ]
  },
  {
   "cell_type": "code",
   "execution_count": null,
   "id": "15",
   "metadata": {},
   "outputs": [],
   "source": [
    "plt.figure()\n",
    "plt.rcParams.update({'font.size': 22}) # must set in top\n",
    "\n",
    "ax = (shine_combined_df[['time','obis_9_7_0_mean','obis_16_7_0_mean']]\n",
    "       .loc[(shine_combined_df['time'] >= '2023-06-01T00:00:00+01:00') & (shine_combined_df['time'] <= '2024-02-01T00:00:00+01:00')]\n",
    "       .plot(kind='line',x='time',y=['obis_9_7_0_mean','obis_16_7_0_mean'],figsize=(20,4),fontsize=20)\n",
    "      )\n",
    "\n",
    "ax.legend(loc=3,fontsize=18)\n",
    "ax.set_xlabel('Time',fontdict={'fontsize':24})\n",
    "ax.set_ylabel('kVA / kW',fontdict={'fontsize':24})"
   ]
  },
  {
   "cell_type": "code",
   "execution_count": null,
   "id": "16",
   "metadata": {},
   "outputs": [],
   "source": [
    "plt.figure()\n",
    "plt.rcParams.update({'font.size': 22}) # must set in top\n",
    "\n",
    "ax = (shine_combined_df[['time','obis_9_7_0_mean','obis_16_7_0_mean']]\n",
    "       .loc[(shine_combined_df['time'] >= '2023-06-01T00:00:00+01:00') & (shine_combined_df['time'] <= '2024-02-01T00:00:00+01:00')]\n",
    "       .plot(kind='line',x='time',y=['obis_9_7_0_mean','obis_16_7_0_mean'],figsize=(20,4),fontsize=20)\n",
    "      )\n",
    "\n",
    "ax.legend(loc=3,fontsize=18)\n",
    "ax.set_xlabel('Time',fontdict={'fontsize':24})\n",
    "ax.set_ylabel('kVA / kW',fontdict={'fontsize':24})"
   ]
  },
  {
   "cell_type": "code",
   "execution_count": null,
   "id": "17",
   "metadata": {},
   "outputs": [],
   "source": [
    "plt.figure()\n",
    "plt.rcParams.update({'font.size': 22}) # must set in top\n",
    "\n",
    "ax = (shine_combined_df[['time','obis_9_7_0_mean','obis_16_7_0_mean']]\n",
    "       .loc[(shine_combined_df['time'] >= '2023-06-01T00:00:00+01:00') & (shine_combined_df['time'] <= '2024-02-01T00:00:00+01:00')]\n",
    "       .plot(kind='line',x='time',y=['obis_9_7_0_mean','obis_16_7_0_mean'],figsize=(20,4),fontsize=20)\n",
    "      )\n",
    "\n",
    "ax.legend(loc=3,fontsize=18)\n",
    "ax.set_xlabel('Time',fontdict={'fontsize':24})\n",
    "ax.set_ylabel('kVA / kW',fontdict={'fontsize':24})"
   ]
  },
  {
   "cell_type": "code",
   "execution_count": null,
   "id": "18",
   "metadata": {},
   "outputs": [],
   "source": [
    "plt.figure()\n",
    "plt.rcParams.update({'font.size': 22}) # must set in top\n",
    "\n",
    "ax = (shine_combined_df[['time','obis_9_7_0_mean','obis_16_7_0_mean']]\n",
    "       .loc[(shine_combined_df['time'] >= '2023-06-01T00:00:00+01:00') & (shine_combined_df['time'] <= '2024-02-01T00:00:00+01:00')]\n",
    "       .plot(kind='line',x='time',y=['obis_9_7_0_mean','obis_16_7_0_mean'],figsize=(20,4),fontsize=20)\n",
    "      )\n",
    "\n",
    "ax.legend(loc=3,fontsize=18)\n",
    "ax.set_xlabel('Time',fontdict={'fontsize':24})\n",
    "ax.set_ylabel('kVA / kW',fontdict={'fontsize':24})"
   ]
  },
  {
   "cell_type": "code",
   "execution_count": null,
   "id": "19",
   "metadata": {},
   "outputs": [],
   "source": [
    "plt.figure()\n",
    "plt.rcParams.update({'font.size': 22}) # must set in top\n",
    "\n",
    "ax = (shine_combined_df[['time','obis_9_7_0_mean','obis_16_7_0_mean']]\n",
    "       .loc[(shine_combined_df['time'] >= '2023-06-01T00:00:00+01:00') & (shine_combined_df['time'] <= '2024-02-01T00:00:00+01:00')]\n",
    "       .plot(kind='line',x='time',y=['obis_9_7_0_mean','obis_16_7_0_mean'],figsize=(20,4),fontsize=20)\n",
    "      )\n",
    "\n",
    "ax.legend(loc=3,fontsize=18)\n",
    "ax.set_xlabel('Time',fontdict={'fontsize':24})\n",
    "ax.set_ylabel('kVA / kW',fontdict={'fontsize':24})"
   ]
  },
  {
   "cell_type": "code",
   "execution_count": null,
   "id": "20",
   "metadata": {},
   "outputs": [],
   "source": [
    "plt.figure()\n",
    "plt.rcParams.update({'font.size': 22}) # must set in top\n",
    "\n",
    "ax = (shine_combined_df[['time','obis_9_7_0_mean','obis_16_7_0_mean']]\n",
    "       .loc[(shine_combined_df['time'] >= '2023-06-01T00:00:00+01:00') & (shine_combined_df['time'] <= '2024-02-01T00:00:00+01:00')]\n",
    "       .plot(kind='line',x='time',y=['obis_9_7_0_mean','obis_16_7_0_mean'],figsize=(20,4),fontsize=20)\n",
    "      )\n",
    "\n",
    "ax.legend(loc=3,fontsize=18)\n",
    "ax.set_xlabel('Time',fontdict={'fontsize':24})\n",
    "ax.set_ylabel('kVA / kW',fontdict={'fontsize':24})"
   ]
  }
 ],
 "metadata": {
  "kernelspec": {
   "display_name": "Python 3 (ipykernel)",
   "language": "python",
   "name": "python3"
  },
  "language_info": {
   "codemirror_mode": {
    "name": "ipython",
    "version": 3
   },
   "file_extension": ".py",
   "mimetype": "text/x-python",
   "name": "python",
   "nbconvert_exporter": "python",
   "pygments_lexer": "ipython3",
   "version": "3.13.0"
  }
 },
 "nbformat": 4,
 "nbformat_minor": 5
}
